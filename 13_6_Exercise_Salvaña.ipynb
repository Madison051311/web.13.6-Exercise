{
  "nbformat": 4,
  "nbformat_minor": 0,
  "metadata": {
    "colab": {
      "provenance": [],
      "authorship_tag": "ABX9TyNEMqugxgvL1CHe55f2Umue",
      "include_colab_link": true
    },
    "kernelspec": {
      "name": "python3",
      "display_name": "Python 3"
    },
    "language_info": {
      "name": "python"
    }
  },
  "cells": [
    {
      "cell_type": "markdown",
      "metadata": {
        "id": "view-in-github",
        "colab_type": "text"
      },
      "source": [
        "<a href=\"https://colab.research.google.com/github/Madison051311/web.13.6-Exercise/blob/main/13_6_Exercise_Salva%C3%B1a.ipynb\" target=\"_parent\"><img src=\"https://colab.research.google.com/assets/colab-badge.svg\" alt=\"Open In Colab\"/></a>"
      ]
    },
    {
      "cell_type": "markdown",
      "source": [
        "1. Write a function called rect angle that takes two integers m and n as arguments and prints out an m x n box consisting of asterisks. Shown below is the output of rectangle (2, 4)\n",
        "****\n",
        "****"
      ],
      "metadata": {
        "id": "x3RNH-6PEOD8"
      }
    },
    {
      "cell_type": "code",
      "source": [
        "def rectangle(m, n):\n",
        "    for i in range(m):\n",
        "        print('*' * n)\n",
        "# Example usage:\n",
        "rectangle(2, 4)"
      ],
      "metadata": {
        "colab": {
          "base_uri": "https://localhost:8080/"
        },
        "id": "_DQY8J6YEiy7",
        "outputId": "9978bc91-b3b2-4148-e2e2-affb14006904"
      },
      "execution_count": 2,
      "outputs": [
        {
          "output_type": "stream",
          "name": "stdout",
          "text": [
            "****\n",
            "****\n"
          ]
        }
      ]
    },
    {
      "cell_type": "markdown",
      "source": [
        "2. (a) Write a function called add_excitement that takes a list of strings and adds an exclamation point (!) to the end of each string in the list. The program should modify the original list and not return anything."
      ],
      "metadata": {
        "id": "wtJ7YwACEpuj"
      }
    },
    {
      "cell_type": "code",
      "source": [
        "def add_excitement(strings):\n",
        "    for i in range(len(strings)):\n",
        "        strings[i] += '!'\n",
        "\n",
        "# Example usage:\n",
        "my_list = [\"Hello\", \"world\", \"this\", \"is\", \"exciting\"]\n",
        "add_excitement(my_list)\n",
        "print(my_list)"
      ],
      "metadata": {
        "colab": {
          "base_uri": "https://localhost:8080/"
        },
        "id": "iii8jheBE2Hc",
        "outputId": "e305fc55-d4de-4435-d09a-f43063d94612"
      },
      "execution_count": 3,
      "outputs": [
        {
          "output_type": "stream",
          "name": "stdout",
          "text": [
            "['Hello!', 'world!', 'this!', 'is!', 'exciting!']\n"
          ]
        }
      ]
    },
    {
      "cell_type": "markdown",
      "source": [
        "(b) Write the same function except that it should not modify the original list and should instead return a new list."
      ],
      "metadata": {
        "id": "ovwxWSF-E6LG"
      }
    },
    {
      "cell_type": "code",
      "source": [
        "def add_excitement(strings):\n",
        "    return [s + '!' for s in strings]\n",
        "# Example usage:\n",
        "my_list = [\"Hello\", \"world\", \"this\", \"is\", \"exciting\"]\n",
        "new_list = add_excitement(my_list)\n",
        "print(\"Original list:\", my_list)\n",
        "print(\"New list:\", new_list)\n"
      ],
      "metadata": {
        "colab": {
          "base_uri": "https://localhost:8080/"
        },
        "id": "PT4m7y63E-tO",
        "outputId": "0d141f64-92ab-443d-906d-f477ccd2aa64"
      },
      "execution_count": 4,
      "outputs": [
        {
          "output_type": "stream",
          "name": "stdout",
          "text": [
            "Original list: ['Hello', 'world', 'this', 'is', 'exciting']\n",
            "New list: ['Hello!', 'world!', 'this!', 'is!', 'exciting!']\n"
          ]
        }
      ]
    },
    {
      "cell_type": "markdown",
      "source": [
        "3. Write a function called sum_digits that is given an integer num and returns the sum of the digits of mum."
      ],
      "metadata": {
        "id": "1G421IMZFDSk"
      }
    },
    {
      "cell_type": "code",
      "source": [
        "def sum_digits(num):\n",
        "    # Convert the number to a string to iterate over each digit\n",
        "    return sum(int(digit) for digit in str(abs(num)))\n",
        "# Example usage:\n",
        "result = sum_digits(12345)\n",
        "print(result)  # Output: 15\n",
        "result_negative = sum_digits(-678)\n",
        "print(result_negative)  # Output: 21\n"
      ],
      "metadata": {
        "colab": {
          "base_uri": "https://localhost:8080/"
        },
        "id": "hJvtrjGUFJoN",
        "outputId": "ff0629e8-fa2a-4213-cc1a-2d350ef50cfe"
      },
      "execution_count": 5,
      "outputs": [
        {
          "output_type": "stream",
          "name": "stdout",
          "text": [
            "15\n",
            "21\n"
          ]
        }
      ]
    },
    {
      "cell_type": "markdown",
      "source": [
        "4. The digital root of a number n is obtained as follows: Add up the digits i to get a new number. Add up the digits of that to get another new number. Keep doing this until you get a number that has only one digit. That number is the digital root. For example, if n = 45893, we add up the digits to get 4 + 5 + 8 + 9+3 = 29. We then add up the digits of 29 to get 2 + 9 = 11. We then add up the digits of 11 to get 1 + 1 = 2. Since 2 has only one digit, 2 is our digital root. Write a function that returns the digital root of an integer a. [Note: there is a shortcut, where the digital root is equal to n mod 9, but do not use that here.]"
      ],
      "metadata": {
        "id": "btPIRmcEFMG9"
      }
    },
    {
      "cell_type": "code",
      "source": [
        "def sum_digits(num):\n",
        "    \"\"\"Calculates the sum of the digits of a given integer.\"\"\"\n",
        "    total = 0  # Initialize the total sum to 0\n",
        "    num_str = str(num)  # Convert the number to a string to iterate over digits\n",
        "    for digit_char in num_str:\n",
        "        if digit_char.isdigit():  # Check if the character is a digit\n",
        "            total += int(digit_char)  # Convert the digit character to an integer and add it to the total\n",
        "    return total  # Return the final sum of digits\n",
        "# Example usage:\n",
        "number = 12345\n",
        "result = sum_digits(number)\n",
        "print(f\"The sum of digits in {number} is: {result}\")\n"
      ],
      "metadata": {
        "colab": {
          "base_uri": "https://localhost:8080/"
        },
        "id": "8vDW6sreFa0s",
        "outputId": "71860419-cdc7-418a-ad68-97cfcb7b4c33"
      },
      "execution_count": 7,
      "outputs": [
        {
          "output_type": "stream",
          "name": "stdout",
          "text": [
            "The sum of digits in 12345 is: 15\n"
          ]
        }
      ]
    },
    {
      "cell_type": "code",
      "source": [
        "def digital_root(n):\n",
        "    \"\"\"Calculates the digital root of an integer n.\"\"\"\n",
        "    while n >= 10:  # Continue until n has only one digit\n",
        "        sum_of_digits = 0\n",
        "        while n > 0:\n",
        "            sum_of_digits += n % 10  # Add the last digit to the sum\n",
        "            n //= 10  # Remove the last digit from n\n",
        "        n = sum_of_digits  # Update n with the sum of its digits\n",
        "    return n  # Return the final single-digit number (digital root)\n",
        "\n",
        "# Example usage:\n",
        "number = 45893\n",
        "root = digital_root(number)\n",
        "print(f\"The digital root of {number} is: {root}\")"
      ],
      "metadata": {
        "colab": {
          "base_uri": "https://localhost:8080/"
        },
        "id": "N7rp8Ys0GE3-",
        "outputId": "653ece02-059a-42eb-b546-a4c37bbf0db1"
      },
      "execution_count": 9,
      "outputs": [
        {
          "output_type": "stream",
          "name": "stdout",
          "text": [
            "The digital root of 45893 is: 2\n"
          ]
        }
      ]
    },
    {
      "cell_type": "markdown",
      "source": [
        "5. Write a function called first dift that is given two strings and returns the first location in which the strings differ. If the strings are identical, it should return - 1."
      ],
      "metadata": {
        "id": "meoGn2HhFz8N"
      }
    },
    {
      "cell_type": "code",
      "source": [
        "def first_diff(str1, str2):\n",
        "    \"\"\"\n",
        "    Finds the first location where two strings differ.\n",
        "\n",
        "    Args:\n",
        "        str1: The first string.\n",
        "        str2: The second string.\n",
        "\n",
        "    Returns:\n",
        "        The index of the first difference, or -1 if the strings are identical.\n",
        "    \"\"\"\n",
        "    min_len = min(len(str1), len(str2))  # Get the length of the shorter string\n",
        "\n",
        "    for i in range(min_len):\n",
        "        if str1[i] != str2[i]:  # Compare characters at index i\n",
        "            return i  # Return index if characters differ\n",
        "\n",
        "    if len(str1) != len(str2):  # If one string is longer than the other and they match up to the shorter length\n",
        "        return min_len  # Return the length of the shorter string\n",
        "\n",
        "    return -1  # If strings are identical, return -1\n",
        "\n",
        "# Example usage with output:\n",
        "string1 = \"abcdefg\"\n",
        "string2 = \"abcdeFg\"\n",
        "diff_index = first_diff(string1, string2)\n",
        "\n",
        "if diff_index == -1:\n",
        "    print(\"The strings are identical.\")\n",
        "else:\n",
        "    print(f\"The strings differ at index {diff_index}.\")\n",
        "\n",
        "# Add more test cases here if you want\n",
        "print(first_diff(\"same\", \"same\"))  # Output: -1\n",
        "print(first_diff(\"one\", \"two\"))  # Output: 0\n",
        "print(first_diff(\"apple\", \"apples\"))  # Output: 5"
      ],
      "metadata": {
        "colab": {
          "base_uri": "https://localhost:8080/"
        },
        "id": "jY-ySX1YF-N9",
        "outputId": "2fea15c3-088f-4aad-8d9b-da112c026e4a"
      },
      "execution_count": 10,
      "outputs": [
        {
          "output_type": "stream",
          "name": "stdout",
          "text": [
            "The strings differ at index 5.\n",
            "-1\n",
            "0\n",
            "5\n"
          ]
        }
      ]
    },
    {
      "cell_type": "markdown",
      "source": [
        "6. Write a function called binom that takes two integers n and k and returns the binomial coefficient (nk). The definition is (nk)=n!/k!(n-k)!."
      ],
      "metadata": {
        "id": "EpbnuJvZGPrO"
      }
    },
    {
      "cell_type": "code",
      "source": [
        "import math\n",
        "\n",
        "def binom(n, k):\n",
        "    \"\"\"\n",
        "    Calculates the binomial coefficient n C k.\n",
        "\n",
        "    Args:\n",
        "        n: The total number of items.\n",
        "        k: The number of items to choose.\n",
        "\n",
        "    Returns:\n",
        "        The binomial coefficient n C k.\n",
        "    \"\"\"\n",
        "    return math.factorial(n) // (math.factorial(k) * math.factorial(n - k))\n",
        "\n",
        "# Example usage:\n",
        "n = 5\n",
        "k = 2\n",
        "result = binom(n, k)\n",
        "print(f\"The binomial coefficient {n} C {k} is: {result}\")"
      ],
      "metadata": {
        "colab": {
          "base_uri": "https://localhost:8080/"
        },
        "id": "UnGnhltgGuZA",
        "outputId": "d8dd4ab8-3f2b-4c00-e641-073124edc214"
      },
      "execution_count": 11,
      "outputs": [
        {
          "output_type": "stream",
          "name": "stdout",
          "text": [
            "The binomial coefficient 5 C 2 is: 10\n"
          ]
        }
      ]
    },
    {
      "cell_type": "markdown",
      "source": [
        "7. Write a function that takes an integer n and returns a random integer with exactly n digits. For instance, if n is 3, then 125 and 593 would be valid return values, but 093 would not because that is really 93, which is a two-digit number."
      ],
      "metadata": {
        "id": "bJuxnuKKG3_2"
      }
    },
    {
      "cell_type": "code",
      "source": [
        "import random\n",
        "def random_n_digit_integer(n):\n",
        "    \"\"\"Returns a random integer with exactly n digits.\"\"\"\n",
        "    if n <= 0:\n",
        "        raise ValueError(\"n must be a positive integer.\")\n",
        "\n",
        "    # The range for n-digit numbers\n",
        "    if n == 1:\n",
        "        return random.randint(0, 9)  # For 1-digit numbers, include 0-9\n",
        "    else:\n",
        "        lower_bound = 10**(n - 1)  # The smallest n-digit number\n",
        "        upper_bound = 10**n - 1    # The largest n-digit number\n",
        "        return random.randint(lower_bound, upper_bound)\n",
        "# Example usage:\n",
        "n = 3  # You can change this value to test with different digit lengths\n",
        "random_number = random_n_digit_integer(n)\n",
        "print(f\"Random {n}-digit number: {random_number}\")"
      ],
      "metadata": {
        "colab": {
          "base_uri": "https://localhost:8080/"
        },
        "id": "2FNWOJTbHEPP",
        "outputId": "d1a95f6c-435d-4249-9108-6258f0d341e0"
      },
      "execution_count": 13,
      "outputs": [
        {
          "output_type": "stream",
          "name": "stdout",
          "text": [
            "Random 3-digit number: 628\n"
          ]
        }
      ]
    },
    {
      "cell_type": "markdown",
      "source": [
        "8. Write a function called number_of_factors that takes an integer and returns how many factors the number has."
      ],
      "metadata": {
        "id": "OhXY0zpkHYB3"
      }
    },
    {
      "cell_type": "code",
      "source": [
        "def number_of_factors(n):\n",
        "    \"\"\"Returns the number of factors of the given integer n.\"\"\"\n",
        "    if n <= 0:\n",
        "        raise ValueError(\"n must be a positive integer.\")\n",
        "\n",
        "    count = 0  # Initialize the count of factors\n",
        "    for i in range(1, n + 1):  # Check all numbers from 1 to n\n",
        "        if n % i == 0:  # If i is a factor of n\n",
        "            count += 1  # Increment the count\n",
        "\n",
        "    return count  # Return the total number of factors\n",
        "# Example usage:\n",
        "result = number_of_factors(12)\n",
        "print(f\"The number of factors of 12 is: {result}\")  # Output: 6\n",
        "result = number_of_factors(15)\n",
        "print(f\"The number of factors of 15 is: {result}\")  # Output: 4"
      ],
      "metadata": {
        "colab": {
          "base_uri": "https://localhost:8080/"
        },
        "id": "Lx6BpQutHdKP",
        "outputId": "401a8a3e-3f53-4139-dbd4-58a092df5002"
      },
      "execution_count": 14,
      "outputs": [
        {
          "output_type": "stream",
          "name": "stdout",
          "text": [
            "The number of factors of 12 is: 6\n",
            "The number of factors of 15 is: 4\n"
          ]
        }
      ]
    },
    {
      "cell_type": "markdown",
      "source": [
        "9. Write a function called factors that takes an integer and returns a list of its factors."
      ],
      "metadata": {
        "id": "HsUTGpCKHhvY"
      }
    },
    {
      "cell_type": "code",
      "source": [
        "def factors(n):\n",
        "    \"\"\"Returns a list of factors of the given integer n.\"\"\"\n",
        "    if n <= 0:\n",
        "        raise ValueError(\"n must be a positive integer.\")\n",
        "\n",
        "    factor_list = []  # Initialize an empty list to store factors\n",
        "    for i in range(1, n + 1):  # Check all numbers from 1 to n\n",
        "        if n % i == 0:  # If i is a factor of n\n",
        "            factor_list.append(i)  # Add i to the list of factors\n",
        "\n",
        "    return factor_list  # Return the list of factors\n",
        "# Example usage:\n",
        "result = factors(12)\n",
        "print(f\"The factors of 12 are: {result}\")  # Output: [1, 2, 3, 4, 6, 12]\n",
        "result = factors(15)\n",
        "print(f\"The factors of 15 are: {result}\")  # Output: [1, 3, 5, 15]\n"
      ],
      "metadata": {
        "colab": {
          "base_uri": "https://localhost:8080/"
        },
        "id": "TJYIjvWBHpgf",
        "outputId": "19636c35-8e91-483d-c4e4-b5d18ab3680f"
      },
      "execution_count": 15,
      "outputs": [
        {
          "output_type": "stream",
          "name": "stdout",
          "text": [
            "The factors of 12 are: [1, 2, 3, 4, 6, 12]\n",
            "The factors of 15 are: [1, 3, 5, 15]\n"
          ]
        }
      ]
    },
    {
      "cell_type": "markdown",
      "source": [
        "10. Write a function called closest that takes a list of numbers L and a number n and returns the largest element in L. that is not larger than n. For instance, if L= [1, 6, 3, 9, 11] and n=8, then the function should return 6, because 6 is the closest thing in L. to 8 that is not larger than\n",
        "Don't worry about if all of the things in L are smaller than n."
      ],
      "metadata": {
        "id": "EXD9_nkdHrGe"
      }
    },
    {
      "cell_type": "code",
      "source": [
        "def closest(L, n):\n",
        "    \"\"\"\n",
        "    Finds the largest element in L that is not larger than n.\n",
        "\n",
        "    Args:\n",
        "        L: A list of numbers.\n",
        "        n: The target number.\n",
        "\n",
        "    Returns:\n",
        "        The largest element in L that is not larger than n.\n",
        "    \"\"\"\n",
        "    closest_num = None  # Initialize with None to handle cases where all elements are larger than n\n",
        "\n",
        "    for num in L:\n",
        "        if num <= n:  # Check if the current number is less than or equal to n\n",
        "            if closest_num is None or num > closest_num:  # Update closest_num if it's None or the current number is larger\n",
        "                closest_num = num\n",
        "\n",
        "    return closest_num  # Return the closest number found (or None if all elements are larger than n)\n",
        "\n",
        "\n",
        "# Example usage:\n",
        "L = [1, 6, 3, 9, 11]\n",
        "n = 8\n",
        "closest_element = closest(L, n)\n",
        "\n",
        "if closest_element is not None:\n",
        "    print(f\"The closest element in {L} to {n} that is not larger than {n} is: {closest_element}\")\n",
        "else:\n",
        "    print(f\"All elements in {L} are larger than {n}.\")"
      ],
      "metadata": {
        "colab": {
          "base_uri": "https://localhost:8080/"
        },
        "id": "ZTgnOCE6H35f",
        "outputId": "0db990e9-4d31-4321-8ac1-e595f3f5e1e9"
      },
      "execution_count": 17,
      "outputs": [
        {
          "output_type": "stream",
          "name": "stdout",
          "text": [
            "The closest element in [1, 6, 3, 9, 11] to 8 that is not larger than 8 is: 6\n"
          ]
        }
      ]
    }
  ]
}